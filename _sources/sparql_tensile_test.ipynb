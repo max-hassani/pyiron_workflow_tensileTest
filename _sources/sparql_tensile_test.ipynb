{
 "cells": [
  {
   "cell_type": "markdown",
   "id": "30019591-6b6b-4093-b08e-b352c92293d1",
   "metadata": {},
   "source": [
    "# Tensile test workflow\n",
    "\n",
    "Here, an examplary workflow of a tensile test is presented.\n",
    "- The data source is obtained from a triple store via sparql queries.\n",
    "- Then the elastic modulus is calculcated based on the given stress-strain data.\n",
    "- The calculated elastic modulus is returned to the triple store.\n",
    "\n",
    "It must be mentioned that the sparql endpoint here is an instance of blazegraph, running on a personal cloud machine."
   ]
  },
  {
   "cell_type": "markdown",
   "id": "8f8eccf0-e01a-4ed8-ab63-23b7ca137a46",
   "metadata": {},
   "source": [
    "### Importing and defining project from the custom defined module "
   ]
  },
  {
   "cell_type": "code",
   "execution_count": 1,
   "id": "c4ed7e16-cde3-4a61-b882-2d5d0266f994",
   "metadata": {},
   "outputs": [],
   "source": [
    "from pyiron_tensile_test import Project"
   ]
  },
  {
   "cell_type": "code",
   "execution_count": 2,
   "id": "1455a593-de89-4960-b569-cfadde7dc473",
   "metadata": {},
   "outputs": [],
   "source": [
    "pr = Project('test_tensile_job')\n",
    "pr.remove_jobs_silently(recursive=True)"
   ]
  },
  {
   "cell_type": "markdown",
   "id": "d180d6c7-7ecc-4acf-859e-4ce029179df2",
   "metadata": {},
   "source": [
    "### Creating a job of type tensile test"
   ]
  },
  {
   "cell_type": "code",
   "execution_count": 3,
   "id": "72765577-e5fc-467b-b9fa-9f29c1afa75e",
   "metadata": {},
   "outputs": [],
   "source": [
    "job = pr.create.job.TensileJob(job_name='tensile_job')"
   ]
  },
  {
   "cell_type": "markdown",
   "id": "c5e34bb4-f2d5-4027-a5b6-b00e3193e821",
   "metadata": {},
   "source": [
    "### Defining the sparql endpoint and query for data source"
   ]
  },
  {
   "cell_type": "code",
   "execution_count": 4,
   "id": "8496725a-d729-4335-b91f-35844d2e3e7d",
   "metadata": {},
   "outputs": [],
   "source": [
    "job.endpoint = 'https://blazegraph.workshop-virtual.de/bigdata/sparql'"
   ]
  },
  {
   "cell_type": "code",
   "execution_count": 5,
   "id": "7531101b-73fb-4880-87f5-58f5de30e304",
   "metadata": {},
   "outputs": [],
   "source": [
    "download_url = job.query_data_source(test_name='Tensile_Test')"
   ]
  },
  {
   "cell_type": "code",
   "execution_count": 6,
   "id": "ad71ed4e-56f7-42a9-a887-2f3119650d00",
   "metadata": {},
   "outputs": [
    {
     "data": {
      "text/plain": [
       "'https://datashare.mpcdf.mpg.de/s/9N5Z1YXxMv9g09p'"
      ]
     },
     "execution_count": 6,
     "metadata": {},
     "output_type": "execute_result"
    }
   ],
   "source": [
    "download_url"
   ]
  },
  {
   "cell_type": "markdown",
   "id": "eed0e007-a990-4afe-b18d-ac7f19c0f5e0",
   "metadata": {},
   "source": [
    "### Obtaining the experimental dataset"
   ]
  },
  {
   "cell_type": "code",
   "execution_count": 7,
   "id": "29b6c64a-99c5-4d0b-8aee-6be40e2b9a26",
   "metadata": {},
   "outputs": [],
   "source": [
    "job.get_dataset(url=download_url)"
   ]
  },
  {
   "cell_type": "code",
   "execution_count": 8,
   "id": "376ce2f8-d36c-4099-b771-a34960b96423",
   "metadata": {},
   "outputs": [
    {
     "data": {
      "text/html": [
       "<div>\n",
       "<style scoped>\n",
       "    .dataframe tbody tr th:only-of-type {\n",
       "        vertical-align: middle;\n",
       "    }\n",
       "\n",
       "    .dataframe tbody tr th {\n",
       "        vertical-align: top;\n",
       "    }\n",
       "\n",
       "    .dataframe thead th {\n",
       "        text-align: right;\n",
       "    }\n",
       "</style>\n",
       "<table border=\"1\" class=\"dataframe\">\n",
       "  <thead>\n",
       "    <tr style=\"text-align: right;\">\n",
       "      <th></th>\n",
       "      <th>test.metadata</th>\n",
       "      <th>test.series</th>\n",
       "    </tr>\n",
       "  </thead>\n",
       "  <tbody>\n",
       "    <tr>\n",
       "      <th>object.identifier</th>\n",
       "      <td>RX5163DV</td>\n",
       "      <td>NaN</td>\n",
       "    </tr>\n",
       "    <tr>\n",
       "      <th>test.start-timestamp</th>\n",
       "      <td>2009-05-13T10:23:00+0200</td>\n",
       "      <td>NaN</td>\n",
       "    </tr>\n",
       "    <tr>\n",
       "      <th>object.length</th>\n",
       "      <td>{'value': 50, 'unit': 'mm'}</td>\n",
       "      <td>NaN</td>\n",
       "    </tr>\n",
       "    <tr>\n",
       "      <th>object.cross-section-area</th>\n",
       "      <td>{'value': 78.658, 'unit': 'mm^2'}</td>\n",
       "      <td>NaN</td>\n",
       "    </tr>\n",
       "    <tr>\n",
       "      <th>test.speed-1</th>\n",
       "      <td>{'value': 0.1, 'unit': 'mm/sec'}</td>\n",
       "      <td>NaN</td>\n",
       "    </tr>\n",
       "    <tr>\n",
       "      <th>test.speed-2</th>\n",
       "      <td>{'value': 0.4, 'unit': 'mm/sec'}</td>\n",
       "      <td>NaN</td>\n",
       "    </tr>\n",
       "    <tr>\n",
       "      <th>Young's module</th>\n",
       "      <td>{'value': 202.1, 'unit': 'GPa'}</td>\n",
       "      <td>NaN</td>\n",
       "    </tr>\n",
       "    <tr>\n",
       "      <th>yield stress</th>\n",
       "      <td>{'value': 316, 'unit': 'MPa'}</td>\n",
       "      <td>NaN</td>\n",
       "    </tr>\n",
       "    <tr>\n",
       "      <th>tensile strength</th>\n",
       "      <td>{'value': 607, 'unit': 'MPa'}</td>\n",
       "      <td>NaN</td>\n",
       "    </tr>\n",
       "    <tr>\n",
       "      <th>fields</th>\n",
       "      <td>NaN</td>\n",
       "      <td>[[Time, s], [Crosshead Travel, mm], [Load, kN], [Tensile Stress, MPa], [Elongation_1, %], [Elongation_2, %], [Elongation Average, %]]</td>\n",
       "    </tr>\n",
       "    <tr>\n",
       "      <th>data</th>\n",
       "      <td>NaN</td>\n",
       "      <td>[[0.0, -4e-05, 0.00062, 0.007840000000000001, 0.0004900000000000001, 0.0, 0.0], [0.1, 0.00252, -0.00013000000000000002, -0.0016500000000000002, 0.00047000000000000004, 0.0, 0.0], [0.2, 0.00928, 0....</td>\n",
       "    </tr>\n",
       "  </tbody>\n",
       "</table>\n",
       "</div>"
      ],
      "text/plain": [
       "                                               test.metadata  \\\n",
       "object.identifier                                   RX5163DV   \n",
       "test.start-timestamp                2009-05-13T10:23:00+0200   \n",
       "object.length                    {'value': 50, 'unit': 'mm'}   \n",
       "object.cross-section-area  {'value': 78.658, 'unit': 'mm^2'}   \n",
       "test.speed-1                {'value': 0.1, 'unit': 'mm/sec'}   \n",
       "test.speed-2                {'value': 0.4, 'unit': 'mm/sec'}   \n",
       "Young's module               {'value': 202.1, 'unit': 'GPa'}   \n",
       "yield stress                   {'value': 316, 'unit': 'MPa'}   \n",
       "tensile strength               {'value': 607, 'unit': 'MPa'}   \n",
       "fields                                                   NaN   \n",
       "data                                                     NaN   \n",
       "\n",
       "                                                                                                                                                                                                                       test.series  \n",
       "object.identifier                                                                                                                                                                                                              NaN  \n",
       "test.start-timestamp                                                                                                                                                                                                           NaN  \n",
       "object.length                                                                                                                                                                                                                  NaN  \n",
       "object.cross-section-area                                                                                                                                                                                                      NaN  \n",
       "test.speed-1                                                                                                                                                                                                                   NaN  \n",
       "test.speed-2                                                                                                                                                                                                                   NaN  \n",
       "Young's module                                                                                                                                                                                                                 NaN  \n",
       "yield stress                                                                                                                                                                                                                   NaN  \n",
       "tensile strength                                                                                                                                                                                                               NaN  \n",
       "fields                                                                                       [[Time, s], [Crosshead Travel, mm], [Load, kN], [Tensile Stress, MPa], [Elongation_1, %], [Elongation_2, %], [Elongation Average, %]]  \n",
       "data                       [[0.0, -4e-05, 0.00062, 0.007840000000000001, 0.0004900000000000001, 0.0, 0.0], [0.1, 0.00252, -0.00013000000000000002, -0.0016500000000000002, 0.00047000000000000004, 0.0, 0.0], [0.2, 0.00928, 0....  "
      ]
     },
     "execution_count": 8,
     "metadata": {},
     "output_type": "execute_result"
    }
   ],
   "source": [
    "job.experimental_json"
   ]
  },
  {
   "cell_type": "markdown",
   "id": "640e6fc8-4b3e-447d-872f-01a75b1041a9",
   "metadata": {},
   "source": [
    "### Extracting stress and strain data from the dataset"
   ]
  },
  {
   "cell_type": "code",
   "execution_count": 9,
   "id": "edb0e1d0-89f2-48e1-8551-87f0634a2edc",
   "metadata": {},
   "outputs": [],
   "source": [
    "job.extract_stress_strain()"
   ]
  },
  {
   "cell_type": "code",
   "execution_count": 10,
   "id": "9502757f-f379-44fa-bbdf-74062087114f",
   "metadata": {},
   "outputs": [
    {
     "data": {
      "text/plain": [
       "array([4.90000000e-04, 4.70000000e-04, 5.00000000e-04, ...,\n",
       "       5.51814239e+01, 5.51907786e+01, 5.51935194e+01])"
      ]
     },
     "execution_count": 10,
     "metadata": {},
     "output_type": "execute_result"
    }
   ],
   "source": [
    "job.input.strains"
   ]
  },
  {
   "cell_type": "code",
   "execution_count": 11,
   "id": "483ba441-eedb-480e-af52-1f912b7c6e0a",
   "metadata": {},
   "outputs": [
    {
     "data": {
      "text/plain": [
       "array([ 7.8400000e-03, -1.6500000e-03,  1.7400000e-03, ...,\n",
       "        3.8407181e+02,  3.8266739e+02,  3.8133539e+02])"
      ]
     },
     "execution_count": 11,
     "metadata": {},
     "output_type": "execute_result"
    }
   ],
   "source": [
    "job.input.stresses"
   ]
  },
  {
   "cell_type": "code",
   "execution_count": 12,
   "id": "c5daa08a-c8f2-4e84-ac72-7d811da6d46e",
   "metadata": {},
   "outputs": [
    {
     "data": {
      "image/png": "[encoded data removed]",
      "text/plain": [
       "<Figure size 432x288 with 1 Axes>"
      ]
     },
     "metadata": {
      "needs_background": "light"
     },
     "output_type": "display_data"
    }
   ],
   "source": [
    "job.plot_stress_strain()"
   ]
  },
  {
   "cell_type": "markdown",
   "id": "3026e672-9c83-4d7b-9d33-547921c1d74b",
   "metadata": {},
   "source": [
    "## Calculating the elastic modulus"
   ]
  },
  {
   "cell_type": "code",
   "execution_count": 13,
   "id": "13c1a787-2596-4ec1-954b-30869f000971",
   "metadata": {},
   "outputs": [
    {
     "name": "stdout",
     "output_type": "stream",
     "text": [
      "The job tensile_job was saved and received the ID: 355\n"
     ]
    }
   ],
   "source": [
    "job.run()"
   ]
  },
  {
   "cell_type": "code",
   "execution_count": 14,
   "id": "3610242f-f53b-4664-bd17-9c77acf79edd",
   "metadata": {},
   "outputs": [
    {
     "data": {
      "text/plain": [
       "201.21019550851148"
      ]
     },
     "execution_count": 14,
     "metadata": {},
     "output_type": "execute_result"
    }
   ],
   "source": [
    "job.output.elastic_modulus"
   ]
  },
  {
   "cell_type": "markdown",
   "id": "ba1ba3e5-7ebc-4d72-adb0-5735da75a21c",
   "metadata": {},
   "source": [
    "### Return the calculated value to the triple store"
   ]
  },
  {
   "cell_type": "code",
   "execution_count": 15,
   "id": "26aacc0c-6fde-461d-881b-293d000415a5",
   "metadata": {},
   "outputs": [],
   "source": [
    "job.update_triple_store()"
   ]
  },
  {
   "cell_type": "code",
   "execution_count": 16,
   "id": "5f7e1c4f-6b3c-46c3-9c13-7797cb610e14",
   "metadata": {},
   "outputs": [
    {
     "name": "stdout",
     "output_type": "stream",
     "text": [
      "correctly updated!\n"
     ]
    },
    {
     "data": {
      "text/plain": [
       "True"
      ]
     },
     "execution_count": 16,
     "metadata": {},
     "output_type": "execute_result"
    }
   ],
   "source": [
    "job.verify_update()"
   ]
  },
  {
   "cell_type": "markdown",
   "id": "578ac891-c3c8-4fd7-b429-0296010f8533",
   "metadata": {},
   "source": [
    "## Verifying the hdf5 file storage"
   ]
  },
  {
   "cell_type": "code",
   "execution_count": 17,
   "id": "376a7daa-4cae-4a3d-89d7-bc05da6b49d4",
   "metadata": {},
   "outputs": [],
   "source": [
    "job_load = pr.load(job.name)"
   ]
  },
  {
   "cell_type": "code",
   "execution_count": 18,
   "id": "95c6590b-0b7e-4847-9a90-a1292127913c",
   "metadata": {},
   "outputs": [
    {
     "data": {
      "application/json": {
       "elastic_modulus": "201.21019550851148"
      },
      "text/html": [
       "<pre>DataContainer({\n",
       "  \"elastic_modulus\": \"201.21019550851148\"\n",
       "})</pre>"
      ],
      "text/plain": [
       "DataContainer({'elastic_modulus': 201.21019550851148})"
      ]
     },
     "execution_count": 18,
     "metadata": {},
     "output_type": "execute_result"
    }
   ],
   "source": [
    "job_load.output"
   ]
  },
  {
   "cell_type": "code",
   "execution_count": 19,
   "id": "8d12770b-9b73-4a9f-a481-f067585e2daa",
   "metadata": {},
   "outputs": [
    {
     "data": {
      "application/json": {
       "strains": "array([4.90000000e-04, 4.70000000e-04, 5.00000000e-04, ...,\n       5.51814239e+01, 5.51907786e+01, 5.51935194e+01])",
       "stresses": "array([ 7.8400000e-03, -1.6500000e-03,  1.7400000e-03, ...,\n        3.8407181e+02,  3.8266739e+02,  3.8133539e+02])",
       "test_name": "'Tensile_Test'"
      },
      "text/html": [
       "<pre>DataContainer({\n",
       "  \"test_name\": \"'Tensile_Test'\",\n",
       "  \"strains\": \"array([4.90000000e-04, 4.70000000e-04, 5.00000000e-04, ...,\\n       5.51814239e+01, 5.51907786e+01, 5.51935194e+01])\",\n",
       "  \"stresses\": \"array([ 7.8400000e-03, -1.6500000e-03,  1.7400000e-03, ...,\\n        3.8407181e+02,  3.8266739e+02,  3.8133539e+02])\"\n",
       "})</pre>"
      ],
      "text/plain": [
       "DataContainer({'test_name': 'Tensile_Test', 'strains': array([4.90000000e-04, 4.70000000e-04, 5.00000000e-04, ...,\n",
       "       5.51814239e+01, 5.51907786e+01, 5.51935194e+01]), 'stresses': array([ 7.8400000e-03, -1.6500000e-03,  1.7400000e-03, ...,\n",
       "        3.8407181e+02,  3.8266739e+02,  3.8133539e+02])})"
      ]
     },
     "execution_count": 19,
     "metadata": {},
     "output_type": "execute_result"
    }
   ],
   "source": [
    "job_load.input"
   ]
  },
  {
   "cell_type": "code",
   "execution_count": null,
   "id": "450946ff-19d0-4bea-b993-ec26c9a15b1e",
   "metadata": {},
   "outputs": [],
   "source": []
  }
 ],
 "metadata": {
  "kernelspec": {
   "display_name": "Python 3 (ipykernel)",
   "language": "python",
   "name": "python3"
  },
  "language_info": {
   "codemirror_mode": {
    "name": "ipython",
    "version": 3
   },
   "file_extension": ".py",
   "mimetype": "text/x-python",
   "name": "python",
   "nbconvert_exporter": "python",
   "pygments_lexer": "ipython3",
   "version": "3.7.11"
  }
 },
 "nbformat": 4,
 "nbformat_minor": 5
}
